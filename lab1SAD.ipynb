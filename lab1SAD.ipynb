{
  "nbformat": 4,
  "nbformat_minor": 0,
  "metadata": {
    "colab": {
      "name": "lab1SAD.ipynb",
      "provenance": [],
      "collapsed_sections": [],
      "authorship_tag": "ABX9TyPTvbnzRq75it+TWGlA+HDs",
      "include_colab_link": true
    },
    "kernelspec": {
      "name": "python3",
      "display_name": "Python 3"
    },
    "language_info": {
      "name": "python"
    }
  },
  "cells": [
    {
      "cell_type": "markdown",
      "metadata": {
        "id": "view-in-github",
        "colab_type": "text"
      },
      "source": [
        "<a href=\"https://colab.research.google.com/github/radmir02/-/blob/master/lab1SAD.ipynb\" target=\"_parent\"><img src=\"https://colab.research.google.com/assets/colab-badge.svg\" alt=\"Open In Colab\"/></a>"
      ]
    },
    {
      "cell_type": "code",
      "metadata": {
        "colab": {
          "base_uri": "https://localhost:8080/",
          "height": 568
        },
        "id": "Mmime6AIj1LQ",
        "outputId": "e4b48d67-c56e-4eb1-9598-254a8b800a5a"
      },
      "source": [
        "import pandas as pd\n",
        "import numpy as np\n",
        "import matplotlib.pyplot as plt\n",
        "import scipy.stats as sts\n",
        "%matplotlib inline\n",
        "import statistics\n",
        "dataFilm_csv = pd.read_csv('FilmTV_dataset.csv')\n",
        "dataFilm_csv"
      ],
      "execution_count": 11,
      "outputs": [
        {
          "output_type": "execute_result",
          "data": {
            "text/html": [
              "<div>\n",
              "<style scoped>\n",
              "    .dataframe tbody tr th:only-of-type {\n",
              "        vertical-align: middle;\n",
              "    }\n",
              "\n",
              "    .dataframe tbody tr th {\n",
              "        vertical-align: top;\n",
              "    }\n",
              "\n",
              "    .dataframe thead th {\n",
              "        text-align: right;\n",
              "    }\n",
              "</style>\n",
              "<table border=\"1\" class=\"dataframe\">\n",
              "  <thead>\n",
              "    <tr style=\"text-align: right;\">\n",
              "      <th></th>\n",
              "      <th>filmtv_ID</th>\n",
              "      <th>film_title</th>\n",
              "      <th>year</th>\n",
              "      <th>genre</th>\n",
              "      <th>duration</th>\n",
              "      <th>country</th>\n",
              "      <th>director</th>\n",
              "      <th>actors</th>\n",
              "      <th>avg_vote</th>\n",
              "      <th>votes</th>\n",
              "    </tr>\n",
              "  </thead>\n",
              "  <tbody>\n",
              "    <tr>\n",
              "      <th>0</th>\n",
              "      <td>2</td>\n",
              "      <td>Bugs Bunny's Third Movie: 1001 Rabbit Tales</td>\n",
              "      <td>1982</td>\n",
              "      <td>Animation</td>\n",
              "      <td>76</td>\n",
              "      <td>United States</td>\n",
              "      <td>David Detiege, Art Davis, Bill Perez</td>\n",
              "      <td>NaN</td>\n",
              "      <td>7.7</td>\n",
              "      <td>28</td>\n",
              "    </tr>\n",
              "    <tr>\n",
              "      <th>1</th>\n",
              "      <td>3</td>\n",
              "      <td>18 anni tra una settimana</td>\n",
              "      <td>1991</td>\n",
              "      <td>Drama</td>\n",
              "      <td>98</td>\n",
              "      <td>Italy</td>\n",
              "      <td>Luigi Perelli</td>\n",
              "      <td>Kim Rossi Stuart, Simona Cavallari, Ennio Fant...</td>\n",
              "      <td>7.0</td>\n",
              "      <td>3</td>\n",
              "    </tr>\n",
              "    <tr>\n",
              "      <th>2</th>\n",
              "      <td>17</td>\n",
              "      <td>Ride a Wild Pony</td>\n",
              "      <td>1976</td>\n",
              "      <td>Romantic</td>\n",
              "      <td>91</td>\n",
              "      <td>United States</td>\n",
              "      <td>Don Chaffey</td>\n",
              "      <td>Michael Craig, John Meillon, Eva Griffith, Gra...</td>\n",
              "      <td>5.6</td>\n",
              "      <td>10</td>\n",
              "    </tr>\n",
              "    <tr>\n",
              "      <th>3</th>\n",
              "      <td>18</td>\n",
              "      <td>Diner</td>\n",
              "      <td>1982</td>\n",
              "      <td>Comedy</td>\n",
              "      <td>95</td>\n",
              "      <td>United States</td>\n",
              "      <td>Barry Levinson</td>\n",
              "      <td>Mickey Rourke, Steve Guttenberg, Ellen Barkin</td>\n",
              "      <td>7.1</td>\n",
              "      <td>14</td>\n",
              "    </tr>\n",
              "    <tr>\n",
              "      <th>4</th>\n",
              "      <td>20</td>\n",
              "      <td>A che servono questi quattrini?</td>\n",
              "      <td>1942</td>\n",
              "      <td>Comedy</td>\n",
              "      <td>85</td>\n",
              "      <td>Italy</td>\n",
              "      <td>Esodo Pratelli</td>\n",
              "      <td>Eduardo De Filippo, Peppino De Filippo, Clelia...</td>\n",
              "      <td>5.9</td>\n",
              "      <td>12</td>\n",
              "    </tr>\n",
              "    <tr>\n",
              "      <th>...</th>\n",
              "      <td>...</td>\n",
              "      <td>...</td>\n",
              "      <td>...</td>\n",
              "      <td>...</td>\n",
              "      <td>...</td>\n",
              "      <td>...</td>\n",
              "      <td>...</td>\n",
              "      <td>...</td>\n",
              "      <td>...</td>\n",
              "      <td>...</td>\n",
              "    </tr>\n",
              "    <tr>\n",
              "      <th>46902</th>\n",
              "      <td>162511</td>\n",
              "      <td>Clowntergeist</td>\n",
              "      <td>2017</td>\n",
              "      <td>Horror</td>\n",
              "      <td>80</td>\n",
              "      <td>United States</td>\n",
              "      <td>Aaron Mirtes</td>\n",
              "      <td>Aaron Mirtes, Brittany Belland, Monica Baker, ...</td>\n",
              "      <td>6.0</td>\n",
              "      <td>1</td>\n",
              "    </tr>\n",
              "    <tr>\n",
              "      <th>46903</th>\n",
              "      <td>162533</td>\n",
              "      <td>Vampirella</td>\n",
              "      <td>1996</td>\n",
              "      <td>Action</td>\n",
              "      <td>82</td>\n",
              "      <td>United States</td>\n",
              "      <td>Jim Wynorski</td>\n",
              "      <td>Talisa Soto, Roger Daltrey, Richard Joseph Pau...</td>\n",
              "      <td>5.0</td>\n",
              "      <td>1</td>\n",
              "    </tr>\n",
              "    <tr>\n",
              "      <th>46904</th>\n",
              "      <td>162711</td>\n",
              "      <td>Circus of the Dead</td>\n",
              "      <td>2017</td>\n",
              "      <td>Action</td>\n",
              "      <td>102</td>\n",
              "      <td>United States</td>\n",
              "      <td>Billy 'Bloody Bill' Pon</td>\n",
              "      <td>Bill Oberst Jr., Parrish Randall, Chanel Ryan,...</td>\n",
              "      <td>8.0</td>\n",
              "      <td>1</td>\n",
              "    </tr>\n",
              "    <tr>\n",
              "      <th>46905</th>\n",
              "      <td>162713</td>\n",
              "      <td>Fear of Clowns</td>\n",
              "      <td>2004</td>\n",
              "      <td>Horror</td>\n",
              "      <td>106</td>\n",
              "      <td>United States</td>\n",
              "      <td>Kevin Kangas</td>\n",
              "      <td>Rick Ganz, Jacqueline Reres, Mark Lassise, Car...</td>\n",
              "      <td>2.0</td>\n",
              "      <td>1</td>\n",
              "    </tr>\n",
              "    <tr>\n",
              "      <th>46906</th>\n",
              "      <td>162717</td>\n",
              "      <td>Obscure Pleasures: A Portrait of Walerian Boro...</td>\n",
              "      <td>2013</td>\n",
              "      <td>Documentary</td>\n",
              "      <td>65</td>\n",
              "      <td>Poland, Great Britain</td>\n",
              "      <td>Daniel Bird</td>\n",
              "      <td>Walerian Borowczyk</td>\n",
              "      <td>7.0</td>\n",
              "      <td>1</td>\n",
              "    </tr>\n",
              "  </tbody>\n",
              "</table>\n",
              "<p>46907 rows × 10 columns</p>\n",
              "</div>"
            ],
            "text/plain": [
              "       filmtv_ID  ... votes\n",
              "0              2  ...    28\n",
              "1              3  ...     3\n",
              "2             17  ...    10\n",
              "3             18  ...    14\n",
              "4             20  ...    12\n",
              "...          ...  ...   ...\n",
              "46902     162511  ...     1\n",
              "46903     162533  ...     1\n",
              "46904     162711  ...     1\n",
              "46905     162713  ...     1\n",
              "46906     162717  ...     1\n",
              "\n",
              "[46907 rows x 10 columns]"
            ]
          },
          "metadata": {
            "tags": []
          },
          "execution_count": 11
        }
      ]
    },
    {
      "cell_type": "code",
      "metadata": {
        "colab": {
          "base_uri": "https://localhost:8080/"
        },
        "id": "eHuxVmujlc7e",
        "outputId": "425832f6-a643-44a1-e54d-79b5b95ac78e"
      },
      "source": [
        "dataFilm_csv.info()"
      ],
      "execution_count": null,
      "outputs": [
        {
          "output_type": "stream",
          "text": [
            "<class 'pandas.core.frame.DataFrame'>\n",
            "RangeIndex: 46907 entries, 0 to 46906\n",
            "Data columns (total 10 columns):\n",
            " #   Column      Non-Null Count  Dtype  \n",
            "---  ------      --------------  -----  \n",
            " 0   filmtv_ID   46907 non-null  int64  \n",
            " 1   film_title  46907 non-null  object \n",
            " 2   year        46907 non-null  int64  \n",
            " 3   genre       46736 non-null  object \n",
            " 4   duration    46907 non-null  int64  \n",
            " 5   country     46868 non-null  object \n",
            " 6   director    46904 non-null  object \n",
            " 7   actors      46778 non-null  object \n",
            " 8   avg_vote    46907 non-null  float64\n",
            " 9   votes       46907 non-null  int64  \n",
            "dtypes: float64(1), int64(4), object(5)\n",
            "memory usage: 3.6+ MB\n"
          ],
          "name": "stdout"
        }
      ]
    },
    {
      "cell_type": "code",
      "metadata": {
        "colab": {
          "base_uri": "https://localhost:8080/"
        },
        "id": "zyyXkJJjpkJU",
        "outputId": "d1f1557b-aadb-473d-cdd7-54c937503182"
      },
      "source": [
        "print('Медиана: ', statistics.median(dataFilm_csv['duration']))"
      ],
      "execution_count": 12,
      "outputs": [
        {
          "output_type": "stream",
          "text": [
            "Медиана:  95\n"
          ],
          "name": "stdout"
        }
      ]
    },
    {
      "cell_type": "code",
      "metadata": {
        "colab": {
          "base_uri": "https://localhost:8080/"
        },
        "id": "KcfjMVzXp_yj",
        "outputId": "3174848a-d93f-4c88-b161-1fa000b1c14f"
      },
      "source": [
        "print('Значение моды: ', statistics.mode(dataFilm_csv['duration']))"
      ],
      "execution_count": 17,
      "outputs": [
        {
          "output_type": "stream",
          "text": [
            "Значение моды:  90\n"
          ],
          "name": "stdout"
        }
      ]
    },
    {
      "cell_type": "markdown",
      "metadata": {
        "id": "xc-QDe0lrc3P"
      },
      "source": [
        "## **Выбросы**"
      ]
    },
    {
      "cell_type": "code",
      "metadata": {
        "colab": {
          "base_uri": "https://localhost:8080/"
        },
        "id": "hO8NTN_EqdMh",
        "outputId": "d0a80b49-5235-4415-86a1-01bd3223db94"
      },
      "source": [
        "min(dataFilm_csv['duration'])"
      ],
      "execution_count": 18,
      "outputs": [
        {
          "output_type": "execute_result",
          "data": {
            "text/plain": [
              "40"
            ]
          },
          "metadata": {
            "tags": []
          },
          "execution_count": 18
        }
      ]
    },
    {
      "cell_type": "code",
      "metadata": {
        "colab": {
          "base_uri": "https://localhost:8080/"
        },
        "id": "8BBuqrr0qjbd",
        "outputId": "33e9f4bf-b781-4aab-d219-04305c15e2df"
      },
      "source": [
        "max(dataFilm_csv['duration'])"
      ],
      "execution_count": 19,
      "outputs": [
        {
          "output_type": "execute_result",
          "data": {
            "text/plain": [
              "5280"
            ]
          },
          "metadata": {
            "tags": []
          },
          "execution_count": 19
        }
      ]
    },
    {
      "cell_type": "code",
      "metadata": {
        "colab": {
          "base_uri": "https://localhost:8080/",
          "height": 295
        },
        "id": "HcFwztQZqswD",
        "outputId": "3dac6521-9a1d-4c03-cb0a-e4a51e9aabca"
      },
      "source": [
        "duration = dataFilm_csv['duration']\n",
        "votes = dataFilm_csv['votes']\n",
        "fig, ax = plt.subplots()\n",
        "ax.scatter(duration, votes, c='red', alpha=0.3, edgecolors='none')\n",
        "\n",
        "ax.grid(True)\n",
        "plt.xlabel('duration')\n",
        "plt.ylabel('votes')\n",
        "plt.title('Точечный график двух случайных величин')\n",
        "plt.show()"
      ],
      "execution_count": 20,
      "outputs": [
        {
          "output_type": "display_data",
          "data": {
            "image/png": "[encoded data removed]",
            "text/plain": [
              "<Figure size 432x288 with 1 Axes>"
            ]
          },
          "metadata": {
            "tags": [],
            "needs_background": "light"
          }
        }
      ]
    },
    {
      "cell_type": "markdown",
      "metadata": {
        "id": "rF5lJc33rlyp"
      },
      "source": [
        "# **Стандартное** отклонение"
      ]
    },
    {
      "cell_type": "code",
      "metadata": {
        "colab": {
          "base_uri": "https://localhost:8080/"
        },
        "id": "Arak2ny8q1kI",
        "outputId": "6f1e0b87-4de6-4ea3-ed48-958e1cabe8d4"
      },
      "source": [
        "statistics.pstdev(dataFilm_csv[ 'duration'])"
      ],
      "execution_count": 21,
      "outputs": [
        {
          "output_type": "execute_result",
          "data": {
            "text/plain": [
              "34.95860443683266"
            ]
          },
          "metadata": {
            "tags": []
          },
          "execution_count": 21
        }
      ]
    },
    {
      "cell_type": "markdown",
      "metadata": {
        "id": "bOIAPpWursri"
      },
      "source": [
        "# **Дисперсия**"
      ]
    },
    {
      "cell_type": "code",
      "metadata": {
        "colab": {
          "base_uri": "https://localhost:8080/"
        },
        "id": "c-ctL1kyrE90",
        "outputId": "3d0708f1-82e7-4612-b81c-d2812604cc4f"
      },
      "source": [
        "statistics.pvariance(dataFilm_csv[ 'duration'])"
      ],
      "execution_count": 22,
      "outputs": [
        {
          "output_type": "execute_result",
          "data": {
            "text/plain": [
              "1222.1040241709359"
            ]
          },
          "metadata": {
            "tags": []
          },
          "execution_count": 22
        }
      ]
    },
    {
      "cell_type": "code",
      "metadata": {
        "id": "KV1s_RZ4rbCc"
      },
      "source": [
        ""
      ],
      "execution_count": null,
      "outputs": []
    },
    {
      "cell_type": "markdown",
      "metadata": {
        "id": "nYmWq3jArYEN"
      },
      "source": [
        "# **Выбросы**"
      ]
    },
    {
      "cell_type": "code",
      "metadata": {
        "colab": {
          "base_uri": "https://localhost:8080/"
        },
        "id": "01ywfJ__rIXl",
        "outputId": "9f4e4a0e-b2a9-4d70-a686-102624457f13"
      },
      "source": [
        "duration.isnull().sum()"
      ],
      "execution_count": 23,
      "outputs": [
        {
          "output_type": "execute_result",
          "data": {
            "text/plain": [
              "0"
            ]
          },
          "metadata": {
            "tags": []
          },
          "execution_count": 23
        }
      ]
    },
    {
      "cell_type": "code",
      "metadata": {
        "colab": {
          "base_uri": "https://localhost:8080/",
          "height": 279
        },
        "id": "ZOztVTYYrVV5",
        "outputId": "a8a4b627-4c05-44a8-bf26-ef38ffd14ccb"
      },
      "source": [
        "duration = dataFilm_csv[ 'duration']\n",
        "year = dataFilm_csv['year']\n",
        "fig, ax = plt.subplots()\n",
        "ax.scatter(duration, year, c='red', alpha=0.3, edgecolors='none')\n",
        "\n",
        "ax.grid(True)\n",
        "plt.xlabel('duration')\n",
        "plt.ylabel('year')\n",
        "plt.show()"
      ],
      "execution_count": 26,
      "outputs": [
        {
          "output_type": "display_data",
          "data": {
            "image/png": "[encoded data removed]",
            "text/plain": [
              "<Figure size 432x288 with 1 Axes>"
            ]
          },
          "metadata": {
            "tags": [],
            "needs_background": "light"
          }
        }
      ]
    },
    {
      "cell_type": "markdown",
      "metadata": {
        "id": "_awsMMLctKvD"
      },
      "source": [
        "# **Размах**"
      ]
    },
    {
      "cell_type": "code",
      "metadata": {
        "colab": {
          "base_uri": "https://localhost:8080/"
        },
        "id": "KQPY8seFsIgm",
        "outputId": "6a3c6c3a-aa61-4935-d3dd-7807931a173a"
      },
      "source": [
        "duration_range = max(dataFilm_csv['duration'])- min(dataFilm_csv['duration'])\n",
        "print(duration_range)"
      ],
      "execution_count": 27,
      "outputs": [
        {
          "output_type": "stream",
          "text": [
            "5240\n"
          ],
          "name": "stdout"
        }
      ]
    },
    {
      "cell_type": "code",
      "metadata": {
        "colab": {
          "base_uri": "https://localhost:8080/",
          "height": 295
        },
        "id": "eIg7qj88tF2m",
        "outputId": "ae9e362b-3820-42e7-c5df-097450491cde"
      },
      "source": [
        "y = dataFilm_csv.loc[dataFilm_csv['duration'] < 5000, 'duration']\n",
        "\n",
        "plt.xlabel('номер фильма')\n",
        "plt.ylabel('длительность')\n",
        "plt.title('Точечный график зависимости двух выборок x и y')\n",
        "plt.grid(True)\n",
        "# вектор от 0 до количество фильмов - 1 (так как мы удалили один фильм в первой строчке)\n",
        "x = [i for i in range(0, len(duration)-1)]\n",
        "plt.scatter(x, y, marker='.')\n",
        "plt.show()"
      ],
      "execution_count": 28,
      "outputs": [
        {
          "output_type": "display_data",
          "data": {
            "image/png": "[encoded data removed]",
            "text/plain": [
              "<Figure size 432x288 with 1 Axes>"
            ]
          },
          "metadata": {
            "tags": [],
            "needs_background": "light"
          }
        }
      ]
    },
    {
      "cell_type": "markdown",
      "metadata": {
        "id": "wSdmrPRht3ms"
      },
      "source": [
        "# **Гистограмма** **признака**"
      ]
    },
    {
      "cell_type": "code",
      "metadata": {
        "colab": {
          "base_uri": "https://localhost:8080/",
          "height": 295
        },
        "id": "lDtwGdvzuH5A",
        "outputId": "3ce79538-d8cd-40ea-e9d1-49555411a121"
      },
      "source": [
        "# plt.hist - строит частотный график выборки, разбивая значения выборки на равные интервалы\n",
        "n, bins, patches = plt.hist(duration[duration < 250], 100, facecolor='g')\n",
        "\n",
        "plt.xlabel('frequency')\n",
        "plt.ylabel('duration')\n",
        "plt.title('Частотный график duration')\n",
        "plt.grid(True)\n",
        "plt.show()"
      ],
      "execution_count": 38,
      "outputs": [
        {
          "output_type": "display_data",
          "data": {
            "image/png": "[encoded data removed]",
            "text/plain": [
              "<Figure size 432x288 with 1 Axes>"
            ]
          },
          "metadata": {
            "tags": [],
            "needs_background": "light"
          }
        }
      ]
    },
    {
      "cell_type": "markdown",
      "metadata": {
        "id": "BpKnLgVuymXN"
      },
      "source": [
        "# **Отсев аномальных значений **"
      ]
    },
    {
      "cell_type": "code",
      "metadata": {
        "colab": {
          "base_uri": "https://localhost:8080/",
          "height": 279
        },
        "id": "oZPD9v3SyVHL",
        "outputId": "a52d4f2e-3767-4390-807a-ca120b39d816"
      },
      "source": [
        "duration_new = duration[duration<600]\n",
        "year_new = year[duration<600]\n",
        "\n",
        "fig, ax = plt.subplots()\n",
        "ax.scatter(duration_new, year_new, c='red', alpha=0.3, edgecolors='none')\n",
        "\n",
        "ax.grid(True)\n",
        "plt.xlabel('duration')\n",
        "plt.ylabel('year')\n",
        "plt.show()"
      ],
      "execution_count": 33,
      "outputs": [
        {
          "output_type": "display_data",
          "data": {
            "image/png": "[encoded data removed]",
            "text/plain": [
              "<Figure size 432x288 with 1 Axes>"
            ]
          },
          "metadata": {
            "tags": [],
            "needs_background": "light"
          }
        }
      ]
    },
    {
      "cell_type": "code",
      "metadata": {
        "id": "R1zNqdlwzdIT"
      },
      "source": [
        "duration_without_vibros = duration[duration<600]"
      ],
      "execution_count": 36,
      "outputs": []
    },
    {
      "cell_type": "markdown",
      "metadata": {
        "id": "8x8XxnUHy0Pf"
      },
      "source": [
        "# **количество отсеянных значений**"
      ]
    },
    {
      "cell_type": "code",
      "metadata": {
        "colab": {
          "base_uri": "https://localhost:8080/"
        },
        "id": "QvT0i9zTyee8",
        "outputId": "e229a34d-6968-4b7a-8c69-5d508938b5b3"
      },
      "source": [
        "print('Количество отсеянных значений',len(duration[duration>600]))"
      ],
      "execution_count": 34,
      "outputs": [
        {
          "output_type": "stream",
          "text": [
            "Количество отсеянных значений 9\n"
          ],
          "name": "stdout"
        }
      ]
    },
    {
      "cell_type": "markdown",
      "metadata": {
        "id": "CHIYTZmQyt-f"
      },
      "source": [
        "# **построить диаграмму рассеяния и гистограмму признака duration**\n",
        "# **после отсева аномалий, сделать выводы;**"
      ]
    },
    {
      "cell_type": "code",
      "metadata": {
        "colab": {
          "base_uri": "https://localhost:8080/",
          "height": 283
        },
        "id": "y0V35BIFy35V",
        "outputId": "53edc992-2052-43d4-a290-e44a4e2bf3f9"
      },
      "source": [
        "len_column = len(duration_without_vibros) # сколько значений в колонке\n",
        "# генерируем значения от 0 до len_column \n",
        "x = np.linspace(0, len_column, len_column)\n",
        "# выводим все значения из таблицы\n",
        "plt.scatter(x, duration_without_vibros, marker='.')"
      ],
      "execution_count": 37,
      "outputs": [
        {
          "output_type": "execute_result",
          "data": {
            "text/plain": [
              "<matplotlib.collections.PathCollection at 0x7f7f0ac61810>"
            ]
          },
          "metadata": {
            "tags": []
          },
          "execution_count": 37
        },
        {
          "output_type": "display_data",
          "data": {
            "image/png": "[encoded data removed]",
            "text/plain": [
              "<Figure size 432x288 with 1 Axes>"
            ]
          },
          "metadata": {
            "tags": [],
            "needs_background": "light"
          }
        }
      ]
    },
    {
      "cell_type": "code",
      "metadata": {
        "colab": {
          "base_uri": "https://localhost:8080/",
          "height": 295
        },
        "id": "iZ3h5F3f1qYM",
        "outputId": "42fb3b1d-8b5b-431e-86e0-98d2cec00f69"
      },
      "source": [
        "# гистограмма признака без аномальных значений\n",
        "n, bins, patches = plt.hist(duration_without_vibros, 100, facecolor='g')\n",
        "\n",
        "plt.xlabel('frequency')\n",
        "plt.ylabel('duration')\n",
        "plt.xlim([0, 250])\n",
        "plt.title('Частотный график duration')\n",
        "plt.grid(True)\n",
        "plt.show()"
      ],
      "execution_count": 39,
      "outputs": [
        {
          "output_type": "display_data",
          "data": {
            "image/png": "[encoded data removed]",
            "text/plain": [
              "<Figure size 432x288 with 1 Axes>"
            ]
          },
          "metadata": {
            "tags": [],
            "needs_background": "light"
          }
        }
      ]
    },
    {
      "cell_type": "markdown",
      "metadata": {
        "id": "V_qQr8O73nE5"
      },
      "source": [
        "# код для моделирования 10 подбрасываний игрального\n",
        "# кубика."
      ]
    },
    {
      "cell_type": "code",
      "metadata": {
        "colab": {
          "base_uri": "https://localhost:8080/",
          "height": 295
        },
        "id": "hi59WeYA2-hR",
        "outputId": "b06aff7b-8e5c-4112-8f13-d95ae733b6aa"
      },
      "source": [
        "import random\n",
        "\n",
        "a = []\n",
        "for i in range(10):\n",
        "    a.append(random.randint(1, 6))\n",
        "series = pd.Series(a)\n",
        "n, bins, patches = plt.hist(series, 20, facecolor='g')\n",
        "plt.xlabel('frequency')\n",
        "plt.ylabel('series')\n",
        "plt.xlim([0, 10])\n",
        "plt.title('Частотный график series')\n",
        "plt.grid(True)\n",
        "plt.show()"
      ],
      "execution_count": 47,
      "outputs": [
        {
          "output_type": "display_data",
          "data": {
            "image/png": "[encoded data removed]",
            "text/plain": [
              "<Figure size 432x288 with 1 Axes>"
            ]
          },
          "metadata": {
            "tags": [],
            "needs_background": "light"
          }
        }
      ]
    },
    {
      "cell_type": "code",
      "metadata": {
        "colab": {
          "base_uri": "https://localhost:8080/",
          "height": 295
        },
        "id": "GicuRXaw3kr_",
        "outputId": "a785aeec-9c3f-48c4-99e3-c556e2a946a4"
      },
      "source": [
        "# игральный кубик х100\n",
        "\n",
        "b = []\n",
        "\n",
        "for i in range(1000):\n",
        "  sum = 0\n",
        "  for i in range(100):\n",
        "    sum += random.randint(1, 6)\n",
        "  b.append(sum)\n",
        "\n",
        "for i in range(100):\n",
        "  b.append(random.randint(1, 6))\n",
        "\n",
        "series_1000 = pd.Series(b)\n",
        "\n",
        "n, bins, patches = plt.hist(series_1000, 100, facecolor='g')\n",
        "\n",
        "plt.xlabel('frequency')\n",
        "plt.ylabel('series')\n",
        "plt.xlim([260, 420])\n",
        "plt.title('Частотный график series')\n",
        "plt.grid(True)\n",
        "plt.show()"
      ],
      "execution_count": 48,
      "outputs": [
        {
          "output_type": "display_data",
          "data": {
            "image/png": "[encoded data removed]",
            "text/plain": [
              "<Figure size 432x288 with 1 Axes>"
            ]
          },
          "metadata": {
            "tags": [],
            "needs_background": "light"
          }
        }
      ]
    },
    {
      "cell_type": "markdown",
      "metadata": {
        "id": "mtU5pfxR7rdK"
      },
      "source": [
        "Вывод: получилось нормальное распределение, что потдверждает центрально-предельную теормему."
      ]
    },
    {
      "cell_type": "code",
      "metadata": {
        "id": "hdO6Vg1h3x4Q"
      },
      "source": [
        ""
      ],
      "execution_count": null,
      "outputs": []
    }
  ]
}